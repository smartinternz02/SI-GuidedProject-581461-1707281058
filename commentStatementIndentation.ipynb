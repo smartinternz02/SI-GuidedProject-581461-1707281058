{
 "cells": [
  {
   "cell_type": "code",
   "execution_count": null,
   "metadata": {},
   "outputs": [],
   "source": [
    "# This is a single-line comment\n",
    "\n",
    "\"\"\"\n",
    "This is a\n",
    "multi-line comment\n",
    "\"\"\"\n",
    "\n",
    "# Statements\n",
    "x = 5  # Assignment statement\n",
    "y = 10\n",
    "\n",
    "sum_result = x + y  # Expression statement\n",
    "\n",
    "# Conditional statement\n",
    "if sum_result > 10:\n",
    "    print(\"Sum is greater than 10.\")\n",
    "else:\n",
    "    print(\"Sum is not greater than 10.\")\n",
    "\n",
    "# Looping statements\n",
    "for i in range(3):\n",
    "    print(f\"Iteration {i}\")\n",
    "\n",
    "while y > 0:\n",
    "    print(f\"Countdown: {y}\")\n",
    "    y -= 1\n",
    "\n",
    "# Function definition\n",
    "def multiply_numbers(a, b):\n",
    "    result = a * b\n",
    "    return result\n",
    "\n",
    "# Function call\n",
    "product = multiply_numbers(3, 4)\n",
    "print(f\"Product: {product}\")\n",
    "\n",
    "# Block indentation\n",
    "if x > 0:\n",
    "    print(\"x is positive.\") \n",
    "    print(\"Inside the if block.\")\n",
    "else:\n",
    "    print(\"x is non-positive.\")  \n"
   ]
  }
 ],
 "metadata": {
  "language_info": {
   "name": "python"
  }
 },
 "nbformat": 4,
 "nbformat_minor": 2
}
