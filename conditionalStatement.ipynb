{
 "cells": [
  {
   "cell_type": "code",
   "execution_count": 1,
   "metadata": {},
   "outputs": [
    {
     "name": "stdout",
     "output_type": "stream",
     "text": [
      "You are eligible to vote.\n",
      "Your grade is: C\n",
      "Let's go for a picnic!\n",
      "The weather is: sunny\n"
     ]
    }
   ],
   "source": [
    "# Example of if statement\n",
    "age = 18\n",
    "\n",
    "if age >= 18:\n",
    "    print(\"You are eligible to vote.\")\n",
    "else:\n",
    "    print(\"You are not eligible to vote.\")\n",
    "\n",
    "# Example of if-elif-else statement\n",
    "score = 75\n",
    "\n",
    "if score >= 90:\n",
    "    grade = 'A'\n",
    "elif score >= 80:\n",
    "    grade = 'B'\n",
    "elif score >= 70:\n",
    "    grade = 'C'\n",
    "elif score >= 60:\n",
    "    grade = 'D'\n",
    "else:\n",
    "    grade = 'F'\n",
    "\n",
    "print(\"Your grade is:\", grade)\n",
    "\n",
    "# Example of nested if statements\n",
    "is_weekend = True\n",
    "has_good_weather = True\n",
    "\n",
    "if is_weekend:\n",
    "    if has_good_weather:\n",
    "        print(\"Let's go for a picnic!\")\n",
    "    else:\n",
    "        print(\"Let's relax at home.\")\n",
    "else:\n",
    "    print(\"It's a weekday, go to work or school.\")\n",
    "\n",
    "# Example of using the ternary operator\n",
    "temperature = 25\n",
    "weather = 'sunny' if temperature > 20 else 'cloudy'\n",
    "print(\"The weather is:\", weather)\n"
   ]
  }
 ],
 "metadata": {
  "kernelspec": {
   "display_name": "Python 3",
   "language": "python",
   "name": "python3"
  },
  "language_info": {
   "codemirror_mode": {
    "name": "ipython",
    "version": 3
   },
   "file_extension": ".py",
   "mimetype": "text/x-python",
   "name": "python",
   "nbconvert_exporter": "python",
   "pygments_lexer": "ipython3",
   "version": "3.12.0"
  }
 },
 "nbformat": 4,
 "nbformat_minor": 2
}
