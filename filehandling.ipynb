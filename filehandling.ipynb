{
 "cells": [
  {
   "cell_type": "code",
   "execution_count": null,
   "metadata": {},
   "outputs": [],
   "source": [
    "# Writing to a file\n",
    "with open('example_file.txt', 'w') as file:\n",
    "    file.write(\"Hello, this is a sample text.\\n\")\n",
    "    file.write(\"Python file handling example.\")\n",
    "\n",
    "# Reading from a file\n",
    "with open('example_file.txt', 'r') as file:\n",
    "    content = file.read()\n",
    "    print(\"File content:\")\n",
    "    print(content)\n",
    "\n",
    "# Appending to a file\n",
    "with open('example_file.txt', 'a') as file:\n",
    "    file.write(\"\\nAppending more text to the file.\")\n",
    "\n",
    "# Reading lines from a file\n",
    "with open('example_file.txt', 'r') as file:\n",
    "    lines = file.readlines()\n",
    "    print(\"\\nFile content line by line:\")\n",
    "    for line in lines:\n",
    "        print(line.strip()) \n",
    "\n",
    "# Handling exceptions during file operations\n",
    "try:\n",
    "    with open('nonexistent_file.txt', 'r') as file:\n",
    "        content = file.read()\n",
    "except FileNotFoundError:\n",
    "    print(\"File not found. Check the file path.\")\n",
    "\n",
    "\n",
    "# Using binary mode for non-text files\n",
    "with open('binary_data.bin', 'wb') as file:\n",
    "    file.write(b'\\x48\\x65\\x6c\\x6c\\x6f')  # Writing binary data\n",
    "\n",
    "with open('binary_data.bin', 'rb') as file:\n",
    "    binary_content = file.read()\n",
    "    print(\"\\nBinary file content:\")\n",
    "    print(binary_content)\n"
   ]
  }
 ],
 "metadata": {
  "language_info": {
   "name": "python"
  }
 },
 "nbformat": 4,
 "nbformat_minor": 2
}
