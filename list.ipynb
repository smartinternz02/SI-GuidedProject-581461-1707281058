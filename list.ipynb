{
 "cells": [
  {
   "cell_type": "code",
   "execution_count": null,
   "metadata": {},
   "outputs": [],
   "source": [
    "# Creating a list\n",
    "fruits = ['apple', 'banana', 'orange', 'grape']\n",
    "\n",
    "# Accessing elements\n",
    "print(\"First fruit:\", fruits[0])\n",
    "print(\"Second fruit:\", fruits[1])\n",
    "\n",
    "# Modifying elements\n",
    "fruits[1] = 'kiwi'\n",
    "print(\"Updated list:\", fruits)\n",
    "\n",
    "# Adding elements\n",
    "fruits.append('melon')\n",
    "print(\"List after appending 'melon':\", fruits)\n",
    "\n",
    "# Inserting elements at a specific position\n",
    "fruits.insert(2, 'pineapple')\n",
    "print(\"List after inserting 'pineapple' at index 2:\", fruits)\n",
    "\n",
    "# Removing elements\n",
    "removed_fruit = fruits.pop(3)  # Remove and return the element at index 3\n",
    "print(\"Removed fruit:\", removed_fruit)\n",
    "print(\"List after popping element at index 3:\", fruits)\n",
    "\n",
    "# Removing by value\n",
    "fruits.remove('orange')\n",
    "print(\"List after removing 'orange':\", fruits)\n",
    "\n",
    "# Slicing\n",
    "subset_of_fruits = fruits[1:4]\n",
    "print(\"Subset of fruits:\", subset_of_fruits)\n",
    "\n",
    "# Concatenating lists\n",
    "more_fruits = ['pear', 'cherry']\n",
    "all_fruits = fruits + more_fruits\n",
    "print(\"Combined list of fruits:\", all_fruits)\n",
    "\n",
    "# Length of the list\n",
    "num_fruits = len(all_fruits)\n",
    "print(\"Number of fruits in the list:\", num_fruits)\n",
    "\n",
    "# Checking if an element is in the list\n",
    "is_banana_present = 'banana' in all_fruits\n",
    "print(\"Is 'banana' present in the list?\", is_banana_present)\n"
   ]
  }
 ],
 "metadata": {
  "kernelspec": {
   "display_name": "Python 3",
   "language": "python",
   "name": "python3"
  },
  "language_info": {
   "codemirror_mode": {
    "name": "ipython",
    "version": 3
   },
   "file_extension": ".py",
   "mimetype": "text/x-python",
   "name": "python",
   "nbconvert_exporter": "python",
   "pygments_lexer": "ipython3",
   "version": "3.12.0"
  }
 },
 "nbformat": 4,
 "nbformat_minor": 2
}
