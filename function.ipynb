{
 "cells": [
  {
   "cell_type": "code",
   "execution_count": 1,
   "metadata": {},
   "outputs": [
    {
     "name": "stdout",
     "output_type": "stream",
     "text": [
      "Hello, Alice!\n",
      "Sum of numbers: 8\n",
      "Default power result: 9\n",
      "Product of numbers: 24\n"
     ]
    }
   ],
   "source": [
    "# Function definition\n",
    "def greet(name):\n",
    "    print(f\"Hello, {name}!\")\n",
    "\n",
    "# Function call\n",
    "greet(\"Alice\")\n",
    "\n",
    "# Function with return value\n",
    "def add_numbers(a, b):\n",
    "    sum_result = a + b\n",
    "    return sum_result\n",
    "\n",
    "# Function call with return value\n",
    "result = add_numbers(3, 5)\n",
    "print(\"Sum of numbers:\", result)\n",
    "\n",
    "# Default parameter value\n",
    "def power(base, exponent=2):\n",
    "    \n",
    "    result = base ** exponent\n",
    "    return result\n",
    "\n",
    "# Function call with default parameter\n",
    "power_result = power(3)\n",
    "print(\"Default power result:\", power_result)\n",
    "\n",
    "# Function with variable number of arguments\n",
    "def multiply(*args):\n",
    "    product = 1\n",
    "    for arg in args:\n",
    "        product *= arg\n",
    "    return product\n",
    "\n",
    "# Function call with variable arguments\n",
    "result_multiply = multiply(2, 3, 4)\n",
    "print(\"Product of numbers:\", result_multiply)\n"
   ]
  }
 ],
 "metadata": {
  "kernelspec": {
   "display_name": "Python 3",
   "language": "python",
   "name": "python3"
  },
  "language_info": {
   "codemirror_mode": {
    "name": "ipython",
    "version": 3
   },
   "file_extension": ".py",
   "mimetype": "text/x-python",
   "name": "python",
   "nbconvert_exporter": "python",
   "pygments_lexer": "ipython3",
   "version": "3.12.0"
  }
 },
 "nbformat": 4,
 "nbformat_minor": 2
}
