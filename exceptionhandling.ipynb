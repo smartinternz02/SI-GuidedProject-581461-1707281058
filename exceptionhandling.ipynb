{
 "cells": [
  {
   "cell_type": "code",
   "execution_count": null,
   "metadata": {},
   "outputs": [],
   "source": [
    "\n",
    "try:\n",
    "    # Code that may raise an exception\n",
    "    num1 = int(input(\"Enter a numerator: \"))\n",
    "    num2 = int(input(\"Enter a denominator: \"))\n",
    "    result = num1 / num2\n",
    "    print(\"Result of division:\", result)\n",
    "\n",
    "except ZeroDivisionError:\n",
    "    print(\"Error: Division by zero is not allowed.\")\n",
    "\n",
    "except ValueError:\n",
    "    # Handle invalid input (non-integer) exception\n",
    "    print(\"Error: Please enter valid integers.\")\n",
    "\n",
    "except Exception as e:\n",
    "    # Handle other types of exceptions\n",
    "    print(f\"An unexpected error occurred: {e}\")\n",
    "\n",
    "else:\n",
    "    # Code to execute if no exception is raised\n",
    "    print(\"Division operation completed successfully.\")\n",
    "\n",
    "finally:\n",
    "    # Code to execute regardless of whether an exception occurred or not\n",
    "    print(\"This will always be executed.\")\n",
    "\n",
    "class CustomError(Exception):\n",
    "    def __init__(self, message):\n",
    "        self.message = message\n",
    "\n",
    "try:\n",
    "    raise CustomError(\"This is a custom exception.\")\n",
    "\n",
    "except CustomError as ce:\n",
    "    print(f\"Custom error message: {ce.message}\")\n"
   ]
  }
 ],
 "metadata": {
  "language_info": {
   "name": "python"
  }
 },
 "nbformat": 4,
 "nbformat_minor": 2
}
