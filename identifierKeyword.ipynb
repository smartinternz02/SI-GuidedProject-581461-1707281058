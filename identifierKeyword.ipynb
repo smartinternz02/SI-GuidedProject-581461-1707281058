{
 "cells": [
  {
   "cell_type": "code",
   "execution_count": 2,
   "metadata": {},
   "outputs": [
    {
     "name": "stdout",
     "output_type": "stream",
     "text": [
      "This is the answer.\n",
      "0\n",
      "1\n",
      "2\n",
      "3\n",
      "4\n",
      "Python keywords:\n",
      "and, as, assert, break, class, continue, def, del, elif, else, except, False, finally, for, from, global, if, import, in, is, lambda, None, nonlocal, not, or, pass, raise, return, True, try, while, with, yield\n",
      "if is a Python keyword.\n"
     ]
    }
   ],
   "source": [
    "# Identifiers\n",
    "variable_name = 42\n",
    "function_name = lambda x: x * 2\n",
    "class ClassName:\n",
    "    def __init__(self, value):\n",
    "        self.value = value\n",
    "\n",
    "# Keywords\n",
    "if variable_name == 42:\n",
    "    print(\"This is the answer.\")\n",
    "\n",
    "for i in range(5):\n",
    "    print(i)\n",
    "\n",
    "while variable_name > 0:\n",
    "    variable_name -= 1\n",
    "\n",
    "# Invalid identifier (using a keyword as a variable name)\n",
    "\n",
    "# Some Python keywords\n",
    "print(\"Python keywords:\")\n",
    "print(\"and, as, assert, break, class, continue, def, del, elif, else, except, False, finally, for, from, global, if, import, in, is, lambda, None, nonlocal, not, or, pass, raise, return, True, try, while, with, yield\")\n",
    "\n",
    "\n",
    "import keyword\n",
    "\n",
    "word = \"if\"\n",
    "if keyword.iskeyword(word):\n",
    "    print(f\"{word} is a Python keyword.\")\n",
    "else:\n",
    "    print(f\"{word} is not a Python keyword.\")\n"
   ]
  },
  {
   "cell_type": "code",
   "execution_count": null,
   "metadata": {},
   "outputs": [],
   "source": []
  }
 ],
 "metadata": {
  "kernelspec": {
   "display_name": "Python 3",
   "language": "python",
   "name": "python3"
  },
  "language_info": {
   "codemirror_mode": {
    "name": "ipython",
    "version": 3
   },
   "file_extension": ".py",
   "mimetype": "text/x-python",
   "name": "python",
   "nbconvert_exporter": "python",
   "pygments_lexer": "ipython3",
   "version": "3.12.0"
  }
 },
 "nbformat": 4,
 "nbformat_minor": 2
}
