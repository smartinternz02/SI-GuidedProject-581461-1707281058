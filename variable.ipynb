{
 "cells": [
  {
   "cell_type": "code",
   "execution_count": 1,
   "metadata": {},
   "outputs": [
    {
     "name": "stdout",
     "output_type": "stream",
     "text": [
      "Name: John\n",
      "Age: 25\n",
      "Height: 1.75\n",
      "Is Student? True\n",
      "Current Age: 34\n",
      "Hello John\n",
      "Updated x: 8\n",
      "Dynamic Variable: 42\n",
      "Updated Dynamic Variable: Hello, Python!\n"
     ]
    }
   ],
   "source": [
    "# Integer variable\n",
    "age = 25\n",
    "\n",
    "# String variable\n",
    "name = \"John\"\n",
    "\n",
    "# Floating-point variable\n",
    "height = 1.75\n",
    "\n",
    "# Boolean variable\n",
    "is_student = True\n",
    "\n",
    "# Multiple assignment\n",
    "x = y = z = 10\n",
    "\n",
    "# Output values\n",
    "print(\"Name:\", name)\n",
    "print(\"Age:\", age)\n",
    "print(\"Height:\", height)\n",
    "print(\"Is Student?\", is_student)\n",
    "\n",
    "# operations with variables\n",
    "birth_year = 1990\n",
    "current_year = 2024\n",
    "age = current_year - birth_year\n",
    "print(\"Current Age:\", age)\n",
    "\n",
    "# Concatenate strings\n",
    "greeting = \"Hello\"\n",
    "full_greeting = greeting + \" \" + name\n",
    "print(full_greeting)\n",
    "\n",
    "# Update \n",
    "x = 5\n",
    "x = x + 3\n",
    "print(\"Updated x:\", x)\n",
    "\n",
    "# Dynamic typing\n",
    "dynamic_variable = 42\n",
    "print(\"Dynamic Variable:\", dynamic_variable)\n",
    "dynamic_variable = \"Hello, Python!\"\n",
    "print(\"Updated Dynamic Variable:\", dynamic_variable)\n"
   ]
  }
 ],
 "metadata": {
  "kernelspec": {
   "display_name": "Python 3",
   "language": "python",
   "name": "python3"
  },
  "language_info": {
   "codemirror_mode": {
    "name": "ipython",
    "version": 3
   },
   "file_extension": ".py",
   "mimetype": "text/x-python",
   "name": "python",
   "nbconvert_exporter": "python",
   "pygments_lexer": "ipython3",
   "version": "3.12.0"
  }
 },
 "nbformat": 4,
 "nbformat_minor": 2
}
