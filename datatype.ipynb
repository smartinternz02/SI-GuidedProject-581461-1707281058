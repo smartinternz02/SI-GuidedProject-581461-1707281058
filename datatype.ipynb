{
 "cells": [
  {
   "cell_type": "code",
   "execution_count": 1,
   "metadata": {},
   "outputs": [
    {
     "name": "stdout",
     "output_type": "stream",
     "text": [
      "Integer: 42\n",
      "Float: 3.14\n",
      "Boolean (True): True\n",
      "Boolean (False): False\n",
      "String: Hello, Python!\n",
      "Converted Integer from Float: 3\n",
      "Converted Float from Integer: 42.0\n",
      "Converted String from Boolean: True\n",
      "Full Name: John Doe\n"
     ]
    }
   ],
   "source": [
    "# Integer\n",
    "my_integer = 42\n",
    "print(\"Integer:\", my_integer)\n",
    "\n",
    "# Floating-point\n",
    "my_float = 3.14\n",
    "print(\"Float:\", my_float)\n",
    "\n",
    "# Boolean\n",
    "is_true = True\n",
    "is_false = False\n",
    "print(\"Boolean (True):\", is_true)\n",
    "print(\"Boolean (False):\", is_false)\n",
    "\n",
    "# String\n",
    "my_string = \"Hello, Python!\"\n",
    "print(\"String:\", my_string)\n",
    "\n",
    "# Type conversion\n",
    "# Converting float to int\n",
    "float_number = 3.8\n",
    "int_number = int(float_number)\n",
    "print(\"Converted Integer from Float:\", int_number)\n",
    "\n",
    "# Converting int to float\n",
    "int_value = 42\n",
    "float_value = float(int_value)\n",
    "print(\"Converted Float from Integer:\", float_value)\n",
    "\n",
    "# Converting bool to string\n",
    "bool_value = True\n",
    "str_value = str(bool_value)\n",
    "print(\"Converted String from Boolean:\", str_value)\n",
    "\n",
    "# Concatenating strings\n",
    "first_name = \"John\"\n",
    "last_name = \"Doe\"\n",
    "full_name = first_name + \" \" + last_name\n",
    "print(\"Full Name:\", full_name)\n"
   ]
  }
 ],
 "metadata": {
  "kernelspec": {
   "display_name": "Python 3",
   "language": "python",
   "name": "python3"
  },
  "language_info": {
   "codemirror_mode": {
    "name": "ipython",
    "version": 3
   },
   "file_extension": ".py",
   "mimetype": "text/x-python",
   "name": "python",
   "nbconvert_exporter": "python",
   "pygments_lexer": "ipython3",
   "version": "3.12.0"
  }
 },
 "nbformat": 4,
 "nbformat_minor": 2
}
