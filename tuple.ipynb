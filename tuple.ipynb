{
 "cells": [
  {
   "cell_type": "code",
   "execution_count": 1,
   "metadata": {},
   "outputs": [
    {
     "name": "stdout",
     "output_type": "stream",
     "text": [
      "First fruit: apple\n",
      "Second fruit: banana\n",
      "Unpacked variables: apple banana ['orange', 'grape']\n",
      "Number of fruits in the tuple: 4\n",
      "Combined tuple of fruits: ('apple', 'banana', 'orange', 'grape', 'pear', 'cherry')\n",
      "Occurrences of 'banana' in the tuple: 1\n",
      "Index of 'orange' in the tuple: 2\n",
      "Nested tuple: (1, 'hello', (2.5, 'world'))\n",
      "Fruit: apple\n",
      "Fruit: banana\n",
      "Fruit: orange\n",
      "Fruit: grape\n",
      "Fruit: pear\n",
      "Fruit: cherry\n"
     ]
    }
   ],
   "source": [
    "# Creating a tuple\n",
    "fruits_tuple = ('apple', 'banana', 'orange', 'grape')\n",
    "\n",
    "# Accessing elements\n",
    "print(\"First fruit:\", fruits_tuple[0])\n",
    "print(\"Second fruit:\", fruits_tuple[1])\n",
    "\n",
    "# Tuple unpacking\n",
    "first, second, *rest = fruits_tuple\n",
    "print(\"Unpacked variables:\", first, second, rest)\n",
    "\n",
    "# Length of the tuple\n",
    "num_fruits = len(fruits_tuple)\n",
    "print(\"Number of fruits in the tuple:\", num_fruits)\n",
    "\n",
    "# Concatenating tuples\n",
    "more_fruits_tuple = ('pear', 'cherry')\n",
    "all_fruits_tuple = fruits_tuple + more_fruits_tuple\n",
    "print(\"Combined tuple of fruits:\", all_fruits_tuple)\n",
    "\n",
    "# Count occurrences of an element\n",
    "count_banana = all_fruits_tuple.count('banana')\n",
    "print(\"Occurrences of 'banana' in the tuple:\", count_banana)\n",
    "\n",
    "# Finding the index of an element\n",
    "index_orange = all_fruits_tuple.index('orange')\n",
    "print(\"Index of 'orange' in the tuple:\", index_orange)\n",
    "\n",
    "# Nested tuple\n",
    "nested_tuple = (1, 'hello', (2.5, 'world'))\n",
    "print(\"Nested tuple:\", nested_tuple)\n",
    "\n",
    "# Iterating through a tuple\n",
    "for fruit in all_fruits_tuple:\n",
    "    print(\"Fruit:\", fruit)\n"
   ]
  }
 ],
 "metadata": {
  "kernelspec": {
   "display_name": "Python 3",
   "language": "python",
   "name": "python3"
  },
  "language_info": {
   "codemirror_mode": {
    "name": "ipython",
    "version": 3
   },
   "file_extension": ".py",
   "mimetype": "text/x-python",
   "name": "python",
   "nbconvert_exporter": "python",
   "pygments_lexer": "ipython3",
   "version": "3.12.0"
  }
 },
 "nbformat": 4,
 "nbformat_minor": 2
}
